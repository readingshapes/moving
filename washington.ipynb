{
 "cells": [
  {
   "cell_type": "markdown",
   "metadata": {},
   "source": [
    "# Washington"
   ]
  },
  {
   "cell_type": "code",
   "execution_count": 8,
   "metadata": {},
   "outputs": [],
   "source": [
    "# # ! pip install --upgrade pip\n",
    "# # ! pip install hvplot datashader holoviews panel param colorcet\n",
    "\n",
    "# ! pip install pandas\n",
    "# ! pip install numpy\n",
    "# ! pip install plotly\n",
    "# ! pip install scikit-learn\n",
    "# ! pip install prophet\n",
    "# ! pip install ipywidgets\n",
    "# ! pip install meteostat\n",
    "# ! pip install requests\n",
    "# ! pip install geopy\n",
    "# ! pip install geopandas\n",
    "# ! pip install census\n",
    "# ! pip install us\n",
    "# ! pip install censusdata\n"
   ]
  },
  {
   "cell_type": "code",
   "execution_count": 9,
   "metadata": {},
   "outputs": [],
   "source": [
    "import pandas as pd\n",
    "import numpy as np\n",
    "import plotly\n",
    "import plotly.express as px\n",
    "import plotly.io as pio\n",
    "import sklearn as sk\n",
    "from collections import defaultdict\n",
    "\n",
    "import geopandas as gpd\n",
    "from census import Census\n",
    "from us import states\n",
    "import censusdata\n",
    "\n",
    "\n",
    "import meteostat\n",
    "import prophet\n",
    "\n",
    "import requests\n",
    "\n",
    "from prophet import Prophet\n",
    "import warnings\n",
    "warnings.filterwarnings('ignore')\n",
    "from sklearn.metrics import mean_absolute_error\n",
    "\n",
    "# Import Meteostat library and dependencies\n",
    "from datetime import datetime, date\n",
    "import matplotlib.pyplot as plt\n",
    "from meteostat import Point, Daily, Monthly\n",
    "from functools import reduce"
   ]
  },
  {
   "cell_type": "code",
   "execution_count": null,
   "metadata": {},
   "outputs": [],
   "source": [
    "# plotly.offline.plot(fig, filename='historical_temps.html')"
   ]
  },
  {
   "cell_type": "code",
   "execution_count": null,
   "metadata": {},
   "outputs": [],
   "source": [
    "# https://nbviewer.org/gist/jackparmer/7d27637328a93e6d699b\n",
    "# https://github.com/plotly/plotly.py/pull/1474 # convert plots to html for iframe embed\n",
    "# https://towardsdatascience.com/accessing-census-data-with-python-3e2f2b56e20d\n",
    "# https://data.census.gov/profile/Washington?g=040XX00US53\n",
    "# https://jtleider.github.io/censusdata/"
   ]
  },
  {
   "cell_type": "code",
   "execution_count": null,
   "metadata": {},
   "outputs": [],
   "source": [
    "# https://www.tripadvisor.com/Attractions-g30255-Activities-Aberdeen_Washington.html\n",
    "# https://www.aberdeenwa.gov/\n",
    "# https://en.wikipedia.org/wiki/Aberdeen,_Washington"
   ]
  },
  {
   "cell_type": "code",
   "execution_count": 24,
   "metadata": {},
   "outputs": [],
   "source": [
    "sample = censusdata.search('acs5', 2015,'concept', 'housing')"
   ]
  },
  {
   "cell_type": "code",
   "execution_count": 25,
   "metadata": {},
   "outputs": [
    {
     "name": "stdout",
     "output_type": "stream",
     "text": [
      "('B00002_001E', 'UNWEIGHTED SAMPLE HOUSING UNITS', 'Estimate!!Total')\n"
     ]
    }
   ],
   "source": [
    "print(sample[0])"
   ]
  },
  {
   "cell_type": "code",
   "execution_count": 26,
   "metadata": {},
   "outputs": [
    {
     "name": "stdout",
     "output_type": "stream",
     "text": [
      "('B25008_001E', 'TOTAL POPULATION IN OCCUPIED HOUSING UNITS BY TENURE', 'Estimate!!Total')\n"
     ]
    }
   ],
   "source": [
    "print(sample[2])"
   ]
  },
  {
   "cell_type": "code",
   "execution_count": 27,
   "metadata": {},
   "outputs": [
    {
     "name": "stdout",
     "output_type": "stream",
     "text": [
      "Variable     | Table                          | Label                                                    | Type \n",
      "-------------------------------------------------------------------------------------------------------------------\n",
      "B25008_001E  | TOTAL POPULATION IN OCCUPIED H | !! Estimate Total                                        | int  \n",
      "B25008_002E  | TOTAL POPULATION IN OCCUPIED H | !! !! Estimate Total Owner occupied                      | int  \n",
      "B25008_003E  | TOTAL POPULATION IN OCCUPIED H | !! !! Estimate Total Renter occupied                     | int  \n",
      "-------------------------------------------------------------------------------------------------------------------\n"
     ]
    }
   ],
   "source": [
    "censusdata.printtable(censusdata.censustable('acs5', 2015, 'B25008'))"
   ]
  },
  {
   "cell_type": "code",
   "execution_count": 15,
   "metadata": {},
   "outputs": [],
   "source": [
    "states = censusdata.geographies(censusdata.censusgeo([('state', '*')]), 'acs5', 2015)\n",
    "\n",
    "# 'Oregon': censusgeo((('state', '41'),))\n",
    "# 'South Dakota': censusgeo((('state', '46'),))\n",
    "# 'Washington': censusgeo((('state', '53'),))"
   ]
  },
  {
   "cell_type": "code",
   "execution_count": 17,
   "metadata": {},
   "outputs": [
    {
     "name": "stdout",
     "output_type": "stream",
     "text": [
      "Summary level: 040, state:53\n"
     ]
    }
   ],
   "source": [
    "print(states['Washington'])"
   ]
  },
  {
   "cell_type": "code",
   "execution_count": 18,
   "metadata": {},
   "outputs": [],
   "source": [
    "counties = censusdata.geographies(censusdata.censusgeo([('state', '53'), ('county', '*')]), 'acs5', 2015)"
   ]
  },
  {
   "cell_type": "code",
   "execution_count": 20,
   "metadata": {},
   "outputs": [],
   "source": [
    "# counties"
   ]
  },
  {
   "cell_type": "code",
   "execution_count": 29,
   "metadata": {},
   "outputs": [],
   "source": [
    "data = censusdata.download('acs5', 2015,\n",
    "           censusdata.censusgeo([('state', '53'),\n",
    "                                 ('county', '027'),\n",
    "                                 ('block group', '*')]),\n",
    "          ['B25008_001E', 'B25008_002E', 'B25008_003E'])"
   ]
  },
  {
   "cell_type": "code",
   "execution_count": 30,
   "metadata": {},
   "outputs": [
    {
     "data": {
      "text/html": [
       "<div>\n",
       "<style scoped>\n",
       "    .dataframe tbody tr th:only-of-type {\n",
       "        vertical-align: middle;\n",
       "    }\n",
       "\n",
       "    .dataframe tbody tr th {\n",
       "        vertical-align: top;\n",
       "    }\n",
       "\n",
       "    .dataframe thead th {\n",
       "        text-align: right;\n",
       "    }\n",
       "</style>\n",
       "<table border=\"1\" class=\"dataframe\">\n",
       "  <thead>\n",
       "    <tr style=\"text-align: right;\">\n",
       "      <th></th>\n",
       "      <th>B25008_001E</th>\n",
       "      <th>B25008_002E</th>\n",
       "      <th>B25008_003E</th>\n",
       "    </tr>\n",
       "  </thead>\n",
       "  <tbody>\n",
       "    <tr>\n",
       "      <th>Block Group 1, Census Tract 16, Grays Harbor County, Washington: Summary level: 150, state:53&gt; county:027&gt; tract:001600&gt; block group:1</th>\n",
       "      <td>1350</td>\n",
       "      <td>683</td>\n",
       "      <td>667</td>\n",
       "    </tr>\n",
       "    <tr>\n",
       "      <th>Block Group 3, Census Tract 16, Grays Harbor County, Washington: Summary level: 150, state:53&gt; county:027&gt; tract:001600&gt; block group:3</th>\n",
       "      <td>489</td>\n",
       "      <td>456</td>\n",
       "      <td>33</td>\n",
       "    </tr>\n",
       "    <tr>\n",
       "      <th>Block Group 2, Census Tract 10, Grays Harbor County, Washington: Summary level: 150, state:53&gt; county:027&gt; tract:001000&gt; block group:2</th>\n",
       "      <td>424</td>\n",
       "      <td>135</td>\n",
       "      <td>289</td>\n",
       "    </tr>\n",
       "    <tr>\n",
       "      <th>Block Group 3, Census Tract 10, Grays Harbor County, Washington: Summary level: 150, state:53&gt; county:027&gt; tract:001000&gt; block group:3</th>\n",
       "      <td>1569</td>\n",
       "      <td>322</td>\n",
       "      <td>1247</td>\n",
       "    </tr>\n",
       "    <tr>\n",
       "      <th>Block Group 1, Census Tract 10, Grays Harbor County, Washington: Summary level: 150, state:53&gt; county:027&gt; tract:001000&gt; block group:1</th>\n",
       "      <td>917</td>\n",
       "      <td>447</td>\n",
       "      <td>470</td>\n",
       "    </tr>\n",
       "  </tbody>\n",
       "</table>\n",
       "</div>"
      ],
      "text/plain": [
       "                                                    B25008_001E  B25008_002E  \\\n",
       "Block Group 1, Census Tract 16, Grays Harbor Co...         1350          683   \n",
       "Block Group 3, Census Tract 16, Grays Harbor Co...          489          456   \n",
       "Block Group 2, Census Tract 10, Grays Harbor Co...          424          135   \n",
       "Block Group 3, Census Tract 10, Grays Harbor Co...         1569          322   \n",
       "Block Group 1, Census Tract 10, Grays Harbor Co...          917          447   \n",
       "\n",
       "                                                    B25008_003E  \n",
       "Block Group 1, Census Tract 16, Grays Harbor Co...          667  \n",
       "Block Group 3, Census Tract 16, Grays Harbor Co...           33  \n",
       "Block Group 2, Census Tract 10, Grays Harbor Co...          289  \n",
       "Block Group 3, Census Tract 10, Grays Harbor Co...         1247  \n",
       "Block Group 1, Census Tract 10, Grays Harbor Co...          470  "
      ]
     },
     "execution_count": 30,
     "metadata": {},
     "output_type": "execute_result"
    }
   ],
   "source": [
    "data.head()"
   ]
  },
  {
   "cell_type": "code",
   "execution_count": null,
   "metadata": {},
   "outputs": [],
   "source": []
  },
  {
   "cell_type": "code",
   "execution_count": null,
   "metadata": {},
   "outputs": [],
   "source": []
  },
  {
   "cell_type": "code",
   "execution_count": null,
   "metadata": {},
   "outputs": [],
   "source": []
  },
  {
   "cell_type": "code",
   "execution_count": null,
   "metadata": {},
   "outputs": [],
   "source": []
  }
 ],
 "metadata": {
  "kernelspec": {
   "display_name": "Python 3",
   "language": "python",
   "name": "python3"
  },
  "language_info": {
   "codemirror_mode": {
    "name": "ipython",
    "version": 3
   },
   "file_extension": ".py",
   "mimetype": "text/x-python",
   "name": "python",
   "nbconvert_exporter": "python",
   "pygments_lexer": "ipython3",
   "version": "3.11.1"
  }
 },
 "nbformat": 4,
 "nbformat_minor": 2
}
